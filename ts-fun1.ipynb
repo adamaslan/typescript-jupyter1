{
 "cells": [
  {
   "cell_type": "code",
   "execution_count": 3,
   "metadata": {
    "scrolled": true
   },
   "outputs": [
    {
     "ename": "Expected ';', '}' or <eof> at file:///repl.tsx:2:6\n\n  !npm install @huggingface/inference\n       ~~~~~~~",
     "evalue": "Expected ';', '}' or <eof> at file:///repl.tsx:2:6\n\n  !npm install @huggingface/inference\n       ~~~~~~~",
     "output_type": "error",
     "traceback": []
    }
   ],
   "source": [
    "console.log(3)\n"
   ]
  },
  {
   "cell_type": "code",
   "execution_count": 2,
   "metadata": {},
   "outputs": [
    {
     "data": {
      "text/plain": [
       "Promise { \u001b[36m<pending>\u001b[39m }"
      ]
     },
     "execution_count": 2,
     "metadata": {},
     "output_type": "execute_result"
    }
   ],
   "source": [
    "import { HfInference } from \"@huggingface/inference\";\n",
    "import dotenv from \"dotenv\";\n",
    "\n",
    "// Load environment variables from .env file\n",
    "dotenv.config();\n",
    "// Function to generate text using the specified Hugging Face model\n",
    "async function askQuestion(question: string) {\n",
    "    const hf = new HfInference(process.env.HUGGING_FACE_API_KEY as string); // Use the API key from the environment variable\n",
    "\n",
    "    // Use the \"cognitivecomputations/WizardLM-7B-Uncensored\" model for text generation\n",
    "    const result = await hf.textGeneration({\n",
    "        model: \"cognitivecomputations/WizardLM-7B-Uncensored\",\n",
    "        inputs: question,\n",
    "    });\n",
    "    \n",
    "    console.log(result);\n",
    "}\n",
    "\n",
    "async function main() {\n",
    "    await askQuestion(\"What is the capital of France?\");\n",
    "}\n",
    "\n",
    "main();\n",
    "\n"
   ]
  }
 ],
 "metadata": {
  "kernelspec": {
   "display_name": "Deno",
   "language": "typescript",
   "name": "deno"
  },
  "language_info": {
   "codemirror_mode": "typescript",
   "file_extension": ".ts",
   "mimetype": "text/x.typescript",
   "name": "typescript",
   "nbconvert_exporter": "script",
   "pygments_lexer": "typescript",
   "version": "5.6.2"
  }
 },
 "nbformat": 4,
 "nbformat_minor": 4
}
